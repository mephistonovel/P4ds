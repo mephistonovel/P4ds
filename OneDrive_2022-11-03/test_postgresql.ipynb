{
 "cells": [
  {
   "cell_type": "markdown",
   "id": "f8dc62b8",
   "metadata": {},
   "source": [
    "### Preaquisition\n",
    "- 자신의 아나콘다 가상 환경에 psycopg2 설치 필요"
   ]
  },
  {
   "cell_type": "code",
   "execution_count": 2,
   "id": "4f040a4e",
   "metadata": {},
   "outputs": [],
   "source": [
    "from psycopg2 import connect"
   ]
  },
  {
   "cell_type": "code",
   "execution_count": 6,
   "id": "181fdb98",
   "metadata": {},
   "outputs": [
    {
     "name": "stdout",
     "output_type": "stream",
     "text": [
      "connected\n"
     ]
    }
   ],
   "source": [
    "if connect(database=\"postgres\", user='postgres', password='kants123!', host='34.64.47.191'):\n",
    "    print(\"connected\")\n",
    "else:\n",
    "    print(\"not connected\")"
   ]
  },
  {
   "cell_type": "code",
   "execution_count": 26,
   "id": "65b57a99",
   "metadata": {},
   "outputs": [],
   "source": [
    "def TestDB():\n",
    "    with connect(database=\"postgres\", user='postgres', password='kants123!', host='34.64.47.191') as conn:\n",
    "        \n",
    "        with conn.cursor() as cur:\n",
    "            \n",
    "            DB_NAME = \"testdb\"\n",
    "            \n",
    "            # if testdb exists then delete it\n",
    "            cur.execute(\"DROP TABLE IF EXISTS \" + str(DB_NAME) + \";\")\n",
    "            \n",
    "            # create testdb\n",
    "            cur.execute(\"CREATE TABLE \" + str(DB_NAME) + \"(\\\n",
    "            date VARCHAR(20) not null,\\\n",
    "            ticker_supplier VARCHAR(50) not null,\\\n",
    "            ticker_customer VARCHAR(50) not null,\\\n",
    "            r_strength NUMERIC(20,2),\\\n",
    "            PRIMARY KEY (date, ticker_supplier, ticker_customer)\\\n",
    "            );\")\n",
    "            \n",
    "            \n",
    "            # make sample data\n",
    "            sample = [\"20221102\", \"005930\", \"APPL\", \"25.4\"]\n",
    "            \n",
    "            # insert sample data\n",
    "            cur.execute(\n",
    "            \"INSERT INTO \"+str(DB_NAME)+\"(date, ticker_supplier, ticker_customer, r_strength) VALUES (%s, %s, %s, %s)\",\n",
    "                (sample[0], sample[1], sample[2], sample[3]))\n",
    "            print(sample[0], sample[1], sample[2], sample[3] + \" is inserted into testdb.\")\n",
    "            conn.commit()\n",
    "            \n",
    "            # print data in db\n",
    "            cur.execute(\"SELECT * FROM \"+ str(DB_NAME) +\";\")\n",
    "            rows = cur.fetchall()\n",
    "            \n",
    "            for i in rows:\n",
    "                print(i)\n",
    "            \n",
    "            # delete testdb table\n",
    "            cur.execute(\"DROP TABLE IF EXISTS \" + str(DB_NAME) + \";\")\n",
    "            \n",
    "            # close the cursor to avoid memory leaks\n",
    "            cur.close"
   ]
  },
  {
   "cell_type": "code",
   "execution_count": 27,
   "id": "6081e5df",
   "metadata": {},
   "outputs": [
    {
     "name": "stdout",
     "output_type": "stream",
     "text": [
      "20221102 005930 APPL 25.4 is inserted into testdb.\n",
      "('20221102', '005930', 'APPL', Decimal('25.40'))\n"
     ]
    }
   ],
   "source": [
    "if __name__ == \"__main__\":\n",
    "    TestDB()"
   ]
  }
 ],
 "metadata": {
  "kernelspec": {
   "display_name": "Python 3 (ipykernel)",
   "language": "python",
   "name": "python3"
  },
  "language_info": {
   "codemirror_mode": {
    "name": "ipython",
    "version": 3
   },
   "file_extension": ".py",
   "mimetype": "text/x-python",
   "name": "python",
   "nbconvert_exporter": "python",
   "pygments_lexer": "ipython3",
   "version": "3.9.13"
  }
 },
 "nbformat": 4,
 "nbformat_minor": 5
}
